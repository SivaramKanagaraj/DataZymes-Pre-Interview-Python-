{
 "cells": [
  {
   "cell_type": "code",
   "execution_count": 1,
   "metadata": {},
   "outputs": [],
   "source": [
    "# Importing Library\n",
    "from bs4 import BeautifulSoup\n",
    "import requests\n",
    "from urllib.request import Request, urlopen\n",
    "import pandas as pd\n",
    "import numpy as np\n",
    "import re"
   ]
  },
  {
   "cell_type": "code",
   "execution_count": 2,
   "metadata": {},
   "outputs": [],
   "source": [
    "URL = \"https://health.usnews.com/doctors/city-index/texas\""
   ]
  },
  {
   "cell_type": "code",
   "execution_count": 3,
   "metadata": {},
   "outputs": [],
   "source": [
    "headers = {'User-Agent': 'Chrome/68.0.3440.106'} # To encounter 403 error"
   ]
  },
  {
   "cell_type": "code",
   "execution_count": 4,
   "metadata": {},
   "outputs": [],
   "source": [
    "page = requests.get(URL, headers=headers)"
   ]
  },
  {
   "cell_type": "code",
   "execution_count": 5,
   "metadata": {},
   "outputs": [
    {
     "data": {
      "text/plain": [
       "200"
      ]
     },
     "execution_count": 5,
     "metadata": {},
     "output_type": "execute_result"
    }
   ],
   "source": [
    "#check if the page was downloaded - status code should be 200\n",
    "page.status_code"
   ]
  },
  {
   "cell_type": "code",
   "execution_count": 6,
   "metadata": {},
   "outputs": [],
   "source": [
    "#Parse the HTML content from page using Beautiful Soup\n",
    "soup=BeautifulSoup(page.content,'html.parser')\n",
    "#soup = BeautifulSoup(page.text)"
   ]
  },
  {
   "cell_type": "markdown",
   "metadata": {},
   "source": [
    "# Links of all the location in Texas (Page - 2)"
   ]
  },
  {
   "cell_type": "code",
   "execution_count": 7,
   "metadata": {},
   "outputs": [],
   "source": [
    "a = soup.find_all('li',class_= 'List__ListItem-xbc1kt-1 kkayKp')"
   ]
  },
  {
   "cell_type": "code",
   "execution_count": 8,
   "metadata": {},
   "outputs": [],
   "source": [
    "location_links=[]\n",
    "for i in a:\n",
    "    b = i.find('a')\n",
    "    location_links.append(b.get('href'))"
   ]
  },
  {
   "cell_type": "code",
   "execution_count": 9,
   "metadata": {},
   "outputs": [
    {
     "data": {
      "text/plain": [
       "'/doctors/specialists-index/texas/abernathy'"
      ]
     },
     "execution_count": 9,
     "metadata": {},
     "output_type": "execute_result"
    }
   ],
   "source": [
    "location_links[0]"
   ]
  },
  {
   "cell_type": "code",
   "execution_count": 10,
   "metadata": {},
   "outputs": [
    {
     "data": {
      "text/plain": [
       "1132"
      ]
     },
     "execution_count": 10,
     "metadata": {},
     "output_type": "execute_result"
    }
   ],
   "source": [
    "len(location_links)"
   ]
  },
  {
   "cell_type": "code",
   "execution_count": 11,
   "metadata": {},
   "outputs": [
    {
     "data": {
      "text/plain": [
       "'/doctors/specialists-index/texas/abernathy'"
      ]
     },
     "execution_count": 11,
     "metadata": {},
     "output_type": "execute_result"
    }
   ],
   "source": [
    "location_links[0]"
   ]
  },
  {
   "cell_type": "code",
   "execution_count": 12,
   "metadata": {},
   "outputs": [],
   "source": [
    "page2 = []\n",
    "for i in location_links:\n",
    "    url = (\"https://health.usnews.com\"+ str(i))\n",
    "    page2.append(url)"
   ]
  },
  {
   "cell_type": "code",
   "execution_count": 13,
   "metadata": {},
   "outputs": [
    {
     "data": {
      "text/plain": [
       "1132"
      ]
     },
     "execution_count": 13,
     "metadata": {},
     "output_type": "execute_result"
    }
   ],
   "source": [
    "len(page2)"
   ]
  },
  {
   "cell_type": "code",
   "execution_count": 14,
   "metadata": {},
   "outputs": [
    {
     "data": {
      "text/plain": [
       "'https://health.usnews.com/doctors/specialists-index/texas/abernathy'"
      ]
     },
     "execution_count": 14,
     "metadata": {},
     "output_type": "execute_result"
    }
   ],
   "source": [
    "page2[0]"
   ]
  },
  {
   "cell_type": "markdown",
   "metadata": {},
   "source": [
    "# Doctors specialize in a particular area of medicine (Page - 3)"
   ]
  },
  {
   "cell_type": "code",
   "execution_count": 15,
   "metadata": {},
   "outputs": [],
   "source": [
    "# For city Abernathy\n",
    "city1 = page2[0]"
   ]
  },
  {
   "cell_type": "code",
   "execution_count": 16,
   "metadata": {},
   "outputs": [],
   "source": [
    "page_2 = requests.get(city1, headers=headers)"
   ]
  },
  {
   "cell_type": "code",
   "execution_count": 17,
   "metadata": {},
   "outputs": [
    {
     "data": {
      "text/plain": [
       "200"
      ]
     },
     "execution_count": 17,
     "metadata": {},
     "output_type": "execute_result"
    }
   ],
   "source": [
    "page_2.status_code"
   ]
  },
  {
   "cell_type": "code",
   "execution_count": 18,
   "metadata": {},
   "outputs": [],
   "source": [
    "soup_2 = BeautifulSoup(page_2.content,'html.parser')"
   ]
  },
  {
   "cell_type": "code",
   "execution_count": 19,
   "metadata": {},
   "outputs": [],
   "source": [
    "a = soup_2.find_all('li',class_= 'List__ListItem-xbc1kt-1 kkayKp')"
   ]
  },
  {
   "cell_type": "code",
   "execution_count": 20,
   "metadata": {},
   "outputs": [],
   "source": [
    "doc_spec=[]\n",
    "for i in a:\n",
    "    b = i.find('a')\n",
    "    doc_spec.append(b.get('href'))"
   ]
  },
  {
   "cell_type": "code",
   "execution_count": 21,
   "metadata": {},
   "outputs": [
    {
     "data": {
      "text/plain": [
       "'/doctors/anesthesiologists/texas/abernathy'"
      ]
     },
     "execution_count": 21,
     "metadata": {},
     "output_type": "execute_result"
    }
   ],
   "source": [
    "doc_spec[0]"
   ]
  },
  {
   "cell_type": "code",
   "execution_count": 22,
   "metadata": {},
   "outputs": [],
   "source": [
    "page3 = []\n",
    "for i in doc_spec:\n",
    "    url = (\"https://health.usnews.com\"+ str(i))\n",
    "    page3.append(url)"
   ]
  },
  {
   "cell_type": "code",
   "execution_count": 23,
   "metadata": {},
   "outputs": [
    {
     "data": {
      "text/plain": [
       "'https://health.usnews.com/doctors/anesthesiologists/texas/abernathy'"
      ]
     },
     "execution_count": 23,
     "metadata": {},
     "output_type": "execute_result"
    }
   ],
   "source": [
    "page3[0]"
   ]
  },
  {
   "cell_type": "code",
   "execution_count": 24,
   "metadata": {},
   "outputs": [
    {
     "data": {
      "text/plain": [
       "122"
      ]
     },
     "execution_count": 24,
     "metadata": {},
     "output_type": "execute_result"
    }
   ],
   "source": [
    "len(page3)"
   ]
  },
  {
   "cell_type": "markdown",
   "metadata": {},
   "source": [
    "# Anesthesiologists (Page - 3)"
   ]
  },
  {
   "cell_type": "code",
   "execution_count": 25,
   "metadata": {},
   "outputs": [],
   "source": [
    "doc = page3[0]"
   ]
  },
  {
   "cell_type": "code",
   "execution_count": 26,
   "metadata": {},
   "outputs": [
    {
     "data": {
      "text/plain": [
       "'https://health.usnews.com/doctors/anesthesiologists/texas/abernathy'"
      ]
     },
     "execution_count": 26,
     "metadata": {},
     "output_type": "execute_result"
    }
   ],
   "source": [
    "doc"
   ]
  },
  {
   "cell_type": "code",
   "execution_count": 27,
   "metadata": {},
   "outputs": [],
   "source": [
    "page_3 = requests.get(doc, headers=headers)"
   ]
  },
  {
   "cell_type": "code",
   "execution_count": 28,
   "metadata": {},
   "outputs": [
    {
     "data": {
      "text/plain": [
       "200"
      ]
     },
     "execution_count": 28,
     "metadata": {},
     "output_type": "execute_result"
    }
   ],
   "source": [
    "page_3.status_code"
   ]
  },
  {
   "cell_type": "code",
   "execution_count": 29,
   "metadata": {},
   "outputs": [],
   "source": [
    "soup_3 = BeautifulSoup(page_3.content,'html.parser')"
   ]
  },
  {
   "cell_type": "code",
   "execution_count": 30,
   "metadata": {},
   "outputs": [],
   "source": [
    "a = soup_3.find_all('a',class_= 'search-result-link bar-tighter')"
   ]
  },
  {
   "cell_type": "code",
   "execution_count": 31,
   "metadata": {},
   "outputs": [],
   "source": [
    "doc_links=[]\n",
    "for i in a:\n",
    "    doc_links.append(i.get('href'))"
   ]
  },
  {
   "cell_type": "code",
   "execution_count": 32,
   "metadata": {},
   "outputs": [
    {
     "data": {
      "text/plain": [
       "'/doctors/chase-clanton-1050234'"
      ]
     },
     "execution_count": 32,
     "metadata": {},
     "output_type": "execute_result"
    }
   ],
   "source": [
    "doc_links[0]"
   ]
  },
  {
   "cell_type": "code",
   "execution_count": 33,
   "metadata": {},
   "outputs": [],
   "source": [
    "page4 = []\n",
    "for i in doc_links:\n",
    "    url = (\"https://health.usnews.com\"+ str(i))\n",
    "    page4.append(url)"
   ]
  },
  {
   "cell_type": "code",
   "execution_count": 34,
   "metadata": {},
   "outputs": [
    {
     "data": {
      "text/plain": [
       "'https://health.usnews.com/doctors/chase-clanton-1050234'"
      ]
     },
     "execution_count": 34,
     "metadata": {},
     "output_type": "execute_result"
    }
   ],
   "source": [
    "page4[0]"
   ]
  },
  {
   "cell_type": "code",
   "execution_count": 35,
   "metadata": {},
   "outputs": [
    {
     "data": {
      "text/plain": [
       "20"
      ]
     },
     "execution_count": 35,
     "metadata": {},
     "output_type": "execute_result"
    }
   ],
   "source": [
    "len(page4)"
   ]
  },
  {
   "cell_type": "markdown",
   "metadata": {},
   "source": [
    "# Scrap the data from the website"
   ]
  },
  {
   "cell_type": "code",
   "execution_count": 36,
   "metadata": {},
   "outputs": [],
   "source": [
    "overview=[]\n",
    "name=[]\n",
    "year_in_practice=[]\n",
    "language=[]\n",
    "location=[]\n",
    "affiliation=[]\n",
    "specialties=[]\n",
    "sub_specialties=[]\n",
    "education_training=[]\n",
    "\n",
    "for i in page4:\n",
    "    page_4 = requests.get(i, headers=headers)\n",
    "    soup_4=BeautifulSoup(page_4.content,'html.parser')\n",
    "    #OverView\n",
    "    overview.append(str(soup_4.find('div',{'class' :'block-normal clearfix'}).getText()))\n",
    "    \n",
    "    #Name Of the Doctor\n",
    "    name.append(str(soup_4.find('h1',{'class':'hero-heading flex-media-heading block-tight doctor-name '}).getText()))\n",
    "    \n",
    "    #Years In Practice\n",
    "    year_in_practice.append(soup_4.find_all('span',class_='text-large heading-normal-for-small-only right-for-medium-up')[1].getText())\n",
    "    \n",
    "    #Language\n",
    "    language.append(soup_4.find('span',class_='text-large heading-normal-for-small-only right-for-medium-up text-right showmore').getText())\n",
    "    \n",
    "    #Location\n",
    "    location.append(soup_4.find('span',attrs={'data-js-id':'doctor-address'}).getText())\n",
    "    \n",
    "    #Affiliation\n",
    "    affiliation.append(soup_4.find('p',class_='text-muted').getText())\n",
    "    \n",
    "    #Specialties\n",
    "    specialties.append(soup_4.find('a',class_='text-large').getText())\n",
    "    \n",
    "    #sub_specialties\n",
    "    s_speciality = soup_4.find_all('p',class_='text-large block-tight')\n",
    "    s = []\n",
    "    for i in range(len(s_speciality)):\n",
    "        s.append(s_speciality[i].get_text())\n",
    "    sub_specialties.append(s)\n",
    "    \n",
    "    #Education   \n",
    "    education = soup_4.findAll('section',class_='block-loosest')\n",
    "    for i in range(len(education)):\n",
    "        try:\n",
    "            if education[i].find('h2',class_=\"heading-larger block-normal\").get_text() == \"Education & Medical Training\":\n",
    "                a = education[i].find_all('li',class_ = 'block-tight')\n",
    "                edu_lst = []\n",
    "                for j in range(len(a)):\n",
    "                    edu_lst.append(education[i].find_all('li',class_ = 'block-tight')[j].get_text())\n",
    "                education_training.append(edu_lst)\n",
    "                break\n",
    "        except:\n",
    "            education_training.append('NaN')"
   ]
  },
  {
   "cell_type": "code",
   "execution_count": 37,
   "metadata": {},
   "outputs": [],
   "source": [
    "Certification_licensure=[]\n",
    "for i in page4:\n",
    "    page_4 = requests.get(i, headers=headers)\n",
    "    soup_4=BeautifulSoup(page_4.content,'html.parser') \n",
    "    #Education   \n",
    "    education = soup_4.findAll('section',class_='block-loosest')\n",
    "    for i in range(len(education)):\n",
    "        try:\n",
    "            if education[i].find('h2',class_=\"heading-larger block-normal\").get_text() == \"Certifications & Licensure\":\n",
    "                b = education[i].find_all('li',class_ = 'block-tight')\n",
    "                cet = []\n",
    "                for j in range(len(b)):\n",
    "                    cet.append(education[i].find_all('li',class_ = 'block-tight')[j].get_text())\n",
    "                Certification_licensure.append(cet)\n",
    "                break\n",
    "        except:\n",
    "            Certification_licensure.append('NaN')"
   ]
  },
  {
   "cell_type": "markdown",
   "metadata": {},
   "source": [
    "# Creating DataFrame & Cleaning"
   ]
  },
  {
   "cell_type": "code",
   "execution_count": 38,
   "metadata": {},
   "outputs": [],
   "source": [
    "data = pd.DataFrame(columns = ['overview','name','year_in_practice','language','location','affiliation','specialties','sub_specialties','education_training','Certification_licensure'])"
   ]
  },
  {
   "cell_type": "code",
   "execution_count": 39,
   "metadata": {},
   "outputs": [
    {
     "data": {
      "text/html": [
       "<div>\n",
       "<style scoped>\n",
       "    .dataframe tbody tr th:only-of-type {\n",
       "        vertical-align: middle;\n",
       "    }\n",
       "\n",
       "    .dataframe tbody tr th {\n",
       "        vertical-align: top;\n",
       "    }\n",
       "\n",
       "    .dataframe thead th {\n",
       "        text-align: right;\n",
       "    }\n",
       "</style>\n",
       "<table border=\"1\" class=\"dataframe\">\n",
       "  <thead>\n",
       "    <tr style=\"text-align: right;\">\n",
       "      <th></th>\n",
       "      <th>overview</th>\n",
       "      <th>name</th>\n",
       "      <th>year_in_practice</th>\n",
       "      <th>language</th>\n",
       "      <th>location</th>\n",
       "      <th>affiliation</th>\n",
       "      <th>specialties</th>\n",
       "      <th>sub_specialties</th>\n",
       "      <th>education_training</th>\n",
       "      <th>Certification_licensure</th>\n",
       "    </tr>\n",
       "  </thead>\n",
       "  <tbody>\n",
       "  </tbody>\n",
       "</table>\n",
       "</div>"
      ],
      "text/plain": [
       "Empty DataFrame\n",
       "Columns: [overview, name, year_in_practice, language, location, affiliation, specialties, sub_specialties, education_training, Certification_licensure]\n",
       "Index: []"
      ]
     },
     "execution_count": 39,
     "metadata": {},
     "output_type": "execute_result"
    }
   ],
   "source": [
    "data"
   ]
  },
  {
   "cell_type": "code",
   "execution_count": 40,
   "metadata": {},
   "outputs": [],
   "source": [
    "data['overview'] = overview\n",
    "data['name'] = name\n",
    "data['year_in_practice'] = year_in_practice\n",
    "data['language'] = language\n",
    "data['location'] = location\n",
    "data['affiliation'] = affiliation\n",
    "data['specialties'] = specialties\n",
    "data['sub_specialties'] = sub_specialties\n",
    "data['education_training'] = education_training\n",
    "data['Certification_licensure']=Certification_licensure"
   ]
  },
  {
   "cell_type": "code",
   "execution_count": 41,
   "metadata": {},
   "outputs": [],
   "source": [
    "data1 = data.replace('\\n','', regex=True)"
   ]
  },
  {
   "cell_type": "code",
   "execution_count": 42,
   "metadata": {},
   "outputs": [],
   "source": [
    "data1 = data1.replace(\"\\t\", \"\")"
   ]
  },
  {
   "cell_type": "code",
   "execution_count": 43,
   "metadata": {},
   "outputs": [],
   "source": [
    "for i in range(len(data1)):\n",
    "    for j in range(len(data1.education_training[i])):\n",
    "        data1.education_training[i][j].strip()"
   ]
  },
  {
   "cell_type": "code",
   "execution_count": 44,
   "metadata": {},
   "outputs": [],
   "source": [
    "for i in range(len(data1)):\n",
    "    for j in range(len(Certification_licensure[i])):\n",
    "        data1.Certification_licensure[i][j].strip()"
   ]
  },
  {
   "cell_type": "code",
   "execution_count": 45,
   "metadata": {},
   "outputs": [],
   "source": [
    "data1.overview = data1.overview.str.strip()\n",
    "data1.name = data1.name.str.strip()\n",
    "data1.location = data1.location.str.strip()"
   ]
  },
  {
   "cell_type": "code",
   "execution_count": 46,
   "metadata": {
    "scrolled": false
   },
   "outputs": [
    {
     "data": {
      "text/html": [
       "<div>\n",
       "<style scoped>\n",
       "    .dataframe tbody tr th:only-of-type {\n",
       "        vertical-align: middle;\n",
       "    }\n",
       "\n",
       "    .dataframe tbody tr th {\n",
       "        vertical-align: top;\n",
       "    }\n",
       "\n",
       "    .dataframe thead th {\n",
       "        text-align: right;\n",
       "    }\n",
       "</style>\n",
       "<table border=\"1\" class=\"dataframe\">\n",
       "  <thead>\n",
       "    <tr style=\"text-align: right;\">\n",
       "      <th></th>\n",
       "      <th>overview</th>\n",
       "      <th>name</th>\n",
       "      <th>year_in_practice</th>\n",
       "      <th>language</th>\n",
       "      <th>location</th>\n",
       "      <th>affiliation</th>\n",
       "      <th>specialties</th>\n",
       "      <th>sub_specialties</th>\n",
       "      <th>education_training</th>\n",
       "      <th>Certification_licensure</th>\n",
       "    </tr>\n",
       "  </thead>\n",
       "  <tbody>\n",
       "    <tr>\n",
       "      <th>0</th>\n",
       "      <td>Dr. Chase Clanton is an anesthesiologist in Lu...</td>\n",
       "      <td>Dr. Chase Clanton                             ...</td>\n",
       "      <td>3 - 5</td>\n",
       "      <td>English</td>\n",
       "      <td>3601 4th St Stop 8182                Lubbock, ...</td>\n",
       "      <td>Dr. Clanton does not have any insurances listed.</td>\n",
       "      <td>Anesthesiology</td>\n",
       "      <td>[General Anesthesiology]</td>\n",
       "      <td>[\\n            Texas Tech University at Lubboc...</td>\n",
       "      <td>[\\n            NJ State Medical License\\nActiv...</td>\n",
       "    </tr>\n",
       "    <tr>\n",
       "      <th>1</th>\n",
       "      <td>Dr. Mark Murphy is an anesthesiologist in Lubb...</td>\n",
       "      <td>Dr. Mark Murphy                               ...</td>\n",
       "      <td>1 - 2</td>\n",
       "      <td>English</td>\n",
       "      <td>3601 4th St Stop 8182                Lubbock, ...</td>\n",
       "      <td>Dr. Murphy does not have any insurances listed.</td>\n",
       "      <td>Anesthesiology</td>\n",
       "      <td>[General Anesthesiology]</td>\n",
       "      <td>[\\n            Texas Tech University at Lubboc...</td>\n",
       "      <td>[\\n            CA State Medical License\\nActiv...</td>\n",
       "    </tr>\n",
       "    <tr>\n",
       "      <th>2</th>\n",
       "      <td>Dr. Spencer Thomas is an anesthesiologist in L...</td>\n",
       "      <td>Dr. Spencer Thomas                            ...</td>\n",
       "      <td>3 - 5</td>\n",
       "      <td>English</td>\n",
       "      <td>3601 4th St Stop 8182                Lubbock, ...</td>\n",
       "      <td>Dr. Thomas does not have any insurances listed.</td>\n",
       "      <td>Anesthesiology</td>\n",
       "      <td>[General Anesthesiology]</td>\n",
       "      <td>[\\n            Texas Tech University at Lubboc...</td>\n",
       "      <td>[\\n            VA State Medical License\\nActiv...</td>\n",
       "    </tr>\n",
       "    <tr>\n",
       "      <th>3</th>\n",
       "      <td>Dr. Ralph Menard is an anesthesiologist in Fre...</td>\n",
       "      <td>Dr. Ralph Menard                              ...</td>\n",
       "      <td>21+</td>\n",
       "      <td>English, Spanish</td>\n",
       "      <td>205 W Windcrest St                Suite 130   ...</td>\n",
       "      <td>Dr. Menard does not have any insurances listed.</td>\n",
       "      <td>Anesthesiology</td>\n",
       "      <td>[Hospice &amp; Palliative Medicine, Pain Medicine]</td>\n",
       "      <td>[\\n            Medical College of Georgia\\n   ...</td>\n",
       "      <td>[\\n            American Board of Anesthesiolog...</td>\n",
       "    </tr>\n",
       "    <tr>\n",
       "      <th>4</th>\n",
       "      <td>Dr. Jeffrey Colvin is an anesthesiologist in L...</td>\n",
       "      <td>Dr. Jeffrey Colvin                            ...</td>\n",
       "      <td>21+</td>\n",
       "      <td>English</td>\n",
       "      <td>4642 N Loop 289 Ste 209                Lubbock...</td>\n",
       "      <td>Dr. Colvin does not have any insurances listed.</td>\n",
       "      <td>Anesthesiology</td>\n",
       "      <td>[General Anesthesiology, Pain Medicine]</td>\n",
       "      <td>[\\n            University Medical Center\\n    ...</td>\n",
       "      <td>[\\n            American Board of Anesthesiolog...</td>\n",
       "    </tr>\n",
       "    <tr>\n",
       "      <th>5</th>\n",
       "      <td>Dr. Corey Haggard is an anesthesiologist in Lu...</td>\n",
       "      <td>Dr. Corey Haggard                             ...</td>\n",
       "      <td>21+</td>\n",
       "      <td>English</td>\n",
       "      <td>4640 N Loop 289                Lubbock, TX 79416</td>\n",
       "      <td>Dr. Haggard does not have any insurances listed.</td>\n",
       "      <td>Anesthesiology</td>\n",
       "      <td>[General Anesthesiology, Pain Medicine]</td>\n",
       "      <td>[\\n            Texas Tech University at Lubboc...</td>\n",
       "      <td>[\\n            American Board of Anesthesiolog...</td>\n",
       "    </tr>\n",
       "    <tr>\n",
       "      <th>6</th>\n",
       "      <td>Dr. Michael Strickland is an anesthesiologist ...</td>\n",
       "      <td>Dr. Michael Strickland                        ...</td>\n",
       "      <td>21+</td>\n",
       "      <td>English</td>\n",
       "      <td>5828 Erskine St                Lubbock, TX 79416</td>\n",
       "      <td>Dr. Strickland does not have any insurances li...</td>\n",
       "      <td>Anesthesiology</td>\n",
       "      <td>[General Anesthesiology]</td>\n",
       "      <td>[\\n            Texas Tech University at Lubboc...</td>\n",
       "      <td>[\\n            American Board of Anesthesiolog...</td>\n",
       "    </tr>\n",
       "    <tr>\n",
       "      <th>7</th>\n",
       "      <td>Dr. Jon Badgwell is an anesthesiologist in For...</td>\n",
       "      <td>Dr. Jon Badgwell                              ...</td>\n",
       "      <td>21+</td>\n",
       "      <td>English</td>\n",
       "      <td>801 7th Ave                Fort Worth, TX 76104</td>\n",
       "      <td>Dr. Badgwell does not have any insurances listed.</td>\n",
       "      <td>Anesthesiology</td>\n",
       "      <td>[General Anesthesiology]</td>\n",
       "      <td>[\\n            Stanford University\\n          ...</td>\n",
       "      <td>[\\n            American Board of Anesthesiolog...</td>\n",
       "    </tr>\n",
       "    <tr>\n",
       "      <th>8</th>\n",
       "      <td>Dr. Julie Roberts is an anesthesiologist in Lu...</td>\n",
       "      <td>Dr. Julie Roberts                             ...</td>\n",
       "      <td>1 - 2</td>\n",
       "      <td>English</td>\n",
       "      <td>3601 4th St                1c282              ...</td>\n",
       "      <td>Dr. Roberts does not have any insurances listed.</td>\n",
       "      <td>Anesthesiology</td>\n",
       "      <td>[General Anesthesiology]</td>\n",
       "      <td>[\\n            Texas Tech University at Lubboc...</td>\n",
       "      <td>[\\n            UT State Medical License\\nActiv...</td>\n",
       "    </tr>\n",
       "    <tr>\n",
       "      <th>9</th>\n",
       "      <td>Dr. Clayton Adams is an anesthesiologist in Lu...</td>\n",
       "      <td>Dr. Clayton Adams                             ...</td>\n",
       "      <td>6 - 10</td>\n",
       "      <td>English</td>\n",
       "      <td>3601 4th St                Ms 8182            ...</td>\n",
       "      <td>Dr. Adams does not have any insurances listed.</td>\n",
       "      <td>Anesthesiology</td>\n",
       "      <td>[General Anesthesiology, Pain Medicine]</td>\n",
       "      <td>[\\n            Texas Tech University at Lubboc...</td>\n",
       "      <td>[\\n            American Board of Anesthesiolog...</td>\n",
       "    </tr>\n",
       "    <tr>\n",
       "      <th>10</th>\n",
       "      <td>Dr. Kallol Chaudhuri is an anesthesiologist in...</td>\n",
       "      <td>Dr. Kallol Chaudhuri                          ...</td>\n",
       "      <td>21+</td>\n",
       "      <td>English</td>\n",
       "      <td>3601 4th St                Lubbock, TX 79430</td>\n",
       "      <td>Dr. Chaudhuri does not have any insurances lis...</td>\n",
       "      <td>Anesthesiology</td>\n",
       "      <td>[General Anesthesiology]</td>\n",
       "      <td>[\\n            Medical College of Ohio at Tole...</td>\n",
       "      <td>[\\n            American Board of Anesthesiolog...</td>\n",
       "    </tr>\n",
       "    <tr>\n",
       "      <th>11</th>\n",
       "      <td>Dr. Ashraf Farag is an anesthesiologist in Lub...</td>\n",
       "      <td>Dr. Ashraf Farag                              ...</td>\n",
       "      <td>21+</td>\n",
       "      <td>English</td>\n",
       "      <td>Texas Tech University Health Sciences Ctr     ...</td>\n",
       "      <td>Dr. Farag does not have any insurances listed.</td>\n",
       "      <td>Anesthesiology</td>\n",
       "      <td>[General Anesthesiology]</td>\n",
       "      <td>[\\n            Brookdale University Hospital a...</td>\n",
       "      <td>[\\n            American Board of Anesthesiolog...</td>\n",
       "    </tr>\n",
       "    <tr>\n",
       "      <th>12</th>\n",
       "      <td>Dr. Gregory Miller is an anesthesiologist in L...</td>\n",
       "      <td>Dr. Gregory Miller                            ...</td>\n",
       "      <td>21+</td>\n",
       "      <td>English</td>\n",
       "      <td>602 Indiana Ave                Lubbock, TX 79415</td>\n",
       "      <td>Dr. Miller does not have any insurances listed.</td>\n",
       "      <td>Anesthesiology</td>\n",
       "      <td>[General Anesthesiology]</td>\n",
       "      <td>[\\n            Texas Tech University at Lubboc...</td>\n",
       "      <td>[\\n            American Board of Anesthesiolog...</td>\n",
       "    </tr>\n",
       "    <tr>\n",
       "      <th>13</th>\n",
       "      <td>Dr. Christiane Vogt-Harenkamp is an anesthesio...</td>\n",
       "      <td>Dr. Christiane Vogt-Harenkamp                 ...</td>\n",
       "      <td>21+</td>\n",
       "      <td>English</td>\n",
       "      <td>3601 4th St                Suite 1c282        ...</td>\n",
       "      <td>Dr. Vogt-Harenkamp does not have any insurance...</td>\n",
       "      <td>Anesthesiology</td>\n",
       "      <td>[General Anesthesiology]</td>\n",
       "      <td>[\\n            Hannover Medical School\\n      ...</td>\n",
       "      <td>[\\n            TX State Medical License\\nActiv...</td>\n",
       "    </tr>\n",
       "    <tr>\n",
       "      <th>14</th>\n",
       "      <td>Dr. Dennis Ho is an anesthesiologist in Lubboc...</td>\n",
       "      <td>Dr. Dennis Ho                                 ...</td>\n",
       "      <td>1 - 2</td>\n",
       "      <td>English</td>\n",
       "      <td>3601 4th St                Lubbock, TX 79430</td>\n",
       "      <td>Dr. Ho does not have any insurances listed.</td>\n",
       "      <td>Anesthesiology</td>\n",
       "      <td>[General Anesthesiology, Cardiothoracic Anesth...</td>\n",
       "      <td>[\\n            Texas A&amp;M - Scott and White Mem...</td>\n",
       "      <td>[\\n            TX State Medical License\\nActiv...</td>\n",
       "    </tr>\n",
       "    <tr>\n",
       "      <th>15</th>\n",
       "      <td>Dr. Claude Oliva is an anesthesiologist in Lub...</td>\n",
       "      <td>Dr. Claude Oliva                              ...</td>\n",
       "      <td>21+</td>\n",
       "      <td>English</td>\n",
       "      <td>4404 6th street                Lubbock, TX 79416</td>\n",
       "      <td></td>\n",
       "      <td>Anesthesiology</td>\n",
       "      <td>[General Anesthesiology, Pain Medicine]</td>\n",
       "      <td>[\\n            Texas Tech University at Lubboc...</td>\n",
       "      <td>[\\n            TX State Medical License\\nActiv...</td>\n",
       "    </tr>\n",
       "    <tr>\n",
       "      <th>16</th>\n",
       "      <td>Dr. Ihsan Asbahi is an anesthesiologist in Lub...</td>\n",
       "      <td>Dr. Ihsan Asbahi                              ...</td>\n",
       "      <td>3 - 5</td>\n",
       "      <td>English</td>\n",
       "      <td>3601 4th St                Ms 8182            ...</td>\n",
       "      <td>Dr. Asbahi does not have any insurances listed.</td>\n",
       "      <td>Anesthesiology</td>\n",
       "      <td>[General Anesthesiology]</td>\n",
       "      <td>[\\n            Texas Tech University at Lubboc...</td>\n",
       "      <td>[\\n            MI State Medical License\\nActiv...</td>\n",
       "    </tr>\n",
       "    <tr>\n",
       "      <th>17</th>\n",
       "      <td>Dr. Stephen Gates is an anesthesiologist in Lu...</td>\n",
       "      <td>Dr. Stephen Gates                             ...</td>\n",
       "      <td>21+</td>\n",
       "      <td>English</td>\n",
       "      <td>3601 4th St                Stop8143           ...</td>\n",
       "      <td>Dr. Gates does not have any insurances listed.</td>\n",
       "      <td>Anesthesiology</td>\n",
       "      <td>[General Anesthesiology, Hospice &amp; Palliative ...</td>\n",
       "      <td>[\\n            San Antonio Uniformed Services ...</td>\n",
       "      <td>[\\n            American Board of Anesthesiolog...</td>\n",
       "    </tr>\n",
       "    <tr>\n",
       "      <th>18</th>\n",
       "      <td>Dr. Bettina Schmitz is an anesthesiologist in ...</td>\n",
       "      <td>Dr. Bettina Schmitz                           ...</td>\n",
       "      <td>21+</td>\n",
       "      <td>English</td>\n",
       "      <td>3601 4th St                Suite 1c282        ...</td>\n",
       "      <td>Dr. Schmitz does not have any insurances listed.</td>\n",
       "      <td>Anesthesiology</td>\n",
       "      <td>[General Anesthesiology, Regional Anesthesiology]</td>\n",
       "      <td>[\\n            Other\\n            \\nMedical Sc...</td>\n",
       "      <td>[\\n            TX State Medical License\\nActiv...</td>\n",
       "    </tr>\n",
       "    <tr>\n",
       "      <th>19</th>\n",
       "      <td>Dr. Kenneth Schronk is an anesthesiologist in ...</td>\n",
       "      <td>Dr. Kenneth Schronk                           ...</td>\n",
       "      <td>11 - 20</td>\n",
       "      <td>English</td>\n",
       "      <td>3601 4th St                1c282              ...</td>\n",
       "      <td>Dr. Schronk does not have any insurances listed.</td>\n",
       "      <td>Anesthesiology</td>\n",
       "      <td>[General Anesthesiology]</td>\n",
       "      <td>[\\n            Texas Tech University at Lubboc...</td>\n",
       "      <td>[\\n            American Board of Anesthesiolog...</td>\n",
       "    </tr>\n",
       "  </tbody>\n",
       "</table>\n",
       "</div>"
      ],
      "text/plain": [
       "                                             overview  \\\n",
       "0   Dr. Chase Clanton is an anesthesiologist in Lu...   \n",
       "1   Dr. Mark Murphy is an anesthesiologist in Lubb...   \n",
       "2   Dr. Spencer Thomas is an anesthesiologist in L...   \n",
       "3   Dr. Ralph Menard is an anesthesiologist in Fre...   \n",
       "4   Dr. Jeffrey Colvin is an anesthesiologist in L...   \n",
       "5   Dr. Corey Haggard is an anesthesiologist in Lu...   \n",
       "6   Dr. Michael Strickland is an anesthesiologist ...   \n",
       "7   Dr. Jon Badgwell is an anesthesiologist in For...   \n",
       "8   Dr. Julie Roberts is an anesthesiologist in Lu...   \n",
       "9   Dr. Clayton Adams is an anesthesiologist in Lu...   \n",
       "10  Dr. Kallol Chaudhuri is an anesthesiologist in...   \n",
       "11  Dr. Ashraf Farag is an anesthesiologist in Lub...   \n",
       "12  Dr. Gregory Miller is an anesthesiologist in L...   \n",
       "13  Dr. Christiane Vogt-Harenkamp is an anesthesio...   \n",
       "14  Dr. Dennis Ho is an anesthesiologist in Lubboc...   \n",
       "15  Dr. Claude Oliva is an anesthesiologist in Lub...   \n",
       "16  Dr. Ihsan Asbahi is an anesthesiologist in Lub...   \n",
       "17  Dr. Stephen Gates is an anesthesiologist in Lu...   \n",
       "18  Dr. Bettina Schmitz is an anesthesiologist in ...   \n",
       "19  Dr. Kenneth Schronk is an anesthesiologist in ...   \n",
       "\n",
       "                                                 name year_in_practice  \\\n",
       "0   Dr. Chase Clanton                             ...            3 - 5   \n",
       "1   Dr. Mark Murphy                               ...            1 - 2   \n",
       "2   Dr. Spencer Thomas                            ...            3 - 5   \n",
       "3   Dr. Ralph Menard                              ...              21+   \n",
       "4   Dr. Jeffrey Colvin                            ...              21+   \n",
       "5   Dr. Corey Haggard                             ...              21+   \n",
       "6   Dr. Michael Strickland                        ...              21+   \n",
       "7   Dr. Jon Badgwell                              ...              21+   \n",
       "8   Dr. Julie Roberts                             ...            1 - 2   \n",
       "9   Dr. Clayton Adams                             ...           6 - 10   \n",
       "10  Dr. Kallol Chaudhuri                          ...              21+   \n",
       "11  Dr. Ashraf Farag                              ...              21+   \n",
       "12  Dr. Gregory Miller                            ...              21+   \n",
       "13  Dr. Christiane Vogt-Harenkamp                 ...              21+   \n",
       "14  Dr. Dennis Ho                                 ...            1 - 2   \n",
       "15  Dr. Claude Oliva                              ...              21+   \n",
       "16  Dr. Ihsan Asbahi                              ...            3 - 5   \n",
       "17  Dr. Stephen Gates                             ...              21+   \n",
       "18  Dr. Bettina Schmitz                           ...              21+   \n",
       "19  Dr. Kenneth Schronk                           ...          11 - 20   \n",
       "\n",
       "            language                                           location  \\\n",
       "0            English  3601 4th St Stop 8182                Lubbock, ...   \n",
       "1            English  3601 4th St Stop 8182                Lubbock, ...   \n",
       "2            English  3601 4th St Stop 8182                Lubbock, ...   \n",
       "3   English, Spanish  205 W Windcrest St                Suite 130   ...   \n",
       "4            English  4642 N Loop 289 Ste 209                Lubbock...   \n",
       "5            English   4640 N Loop 289                Lubbock, TX 79416   \n",
       "6            English   5828 Erskine St                Lubbock, TX 79416   \n",
       "7            English    801 7th Ave                Fort Worth, TX 76104   \n",
       "8            English  3601 4th St                1c282              ...   \n",
       "9            English  3601 4th St                Ms 8182            ...   \n",
       "10           English       3601 4th St                Lubbock, TX 79430   \n",
       "11           English  Texas Tech University Health Sciences Ctr     ...   \n",
       "12           English   602 Indiana Ave                Lubbock, TX 79415   \n",
       "13           English  3601 4th St                Suite 1c282        ...   \n",
       "14           English       3601 4th St                Lubbock, TX 79430   \n",
       "15           English   4404 6th street                Lubbock, TX 79416   \n",
       "16           English  3601 4th St                Ms 8182            ...   \n",
       "17           English  3601 4th St                Stop8143           ...   \n",
       "18           English  3601 4th St                Suite 1c282        ...   \n",
       "19           English  3601 4th St                1c282              ...   \n",
       "\n",
       "                                          affiliation     specialties  \\\n",
       "0    Dr. Clanton does not have any insurances listed.  Anesthesiology   \n",
       "1     Dr. Murphy does not have any insurances listed.  Anesthesiology   \n",
       "2     Dr. Thomas does not have any insurances listed.  Anesthesiology   \n",
       "3     Dr. Menard does not have any insurances listed.  Anesthesiology   \n",
       "4     Dr. Colvin does not have any insurances listed.  Anesthesiology   \n",
       "5    Dr. Haggard does not have any insurances listed.  Anesthesiology   \n",
       "6   Dr. Strickland does not have any insurances li...  Anesthesiology   \n",
       "7   Dr. Badgwell does not have any insurances listed.  Anesthesiology   \n",
       "8    Dr. Roberts does not have any insurances listed.  Anesthesiology   \n",
       "9      Dr. Adams does not have any insurances listed.  Anesthesiology   \n",
       "10  Dr. Chaudhuri does not have any insurances lis...  Anesthesiology   \n",
       "11     Dr. Farag does not have any insurances listed.  Anesthesiology   \n",
       "12    Dr. Miller does not have any insurances listed.  Anesthesiology   \n",
       "13  Dr. Vogt-Harenkamp does not have any insurance...  Anesthesiology   \n",
       "14        Dr. Ho does not have any insurances listed.  Anesthesiology   \n",
       "15                                                     Anesthesiology   \n",
       "16    Dr. Asbahi does not have any insurances listed.  Anesthesiology   \n",
       "17     Dr. Gates does not have any insurances listed.  Anesthesiology   \n",
       "18   Dr. Schmitz does not have any insurances listed.  Anesthesiology   \n",
       "19   Dr. Schronk does not have any insurances listed.  Anesthesiology   \n",
       "\n",
       "                                      sub_specialties  \\\n",
       "0                            [General Anesthesiology]   \n",
       "1                            [General Anesthesiology]   \n",
       "2                            [General Anesthesiology]   \n",
       "3      [Hospice & Palliative Medicine, Pain Medicine]   \n",
       "4             [General Anesthesiology, Pain Medicine]   \n",
       "5             [General Anesthesiology, Pain Medicine]   \n",
       "6                            [General Anesthesiology]   \n",
       "7                            [General Anesthesiology]   \n",
       "8                            [General Anesthesiology]   \n",
       "9             [General Anesthesiology, Pain Medicine]   \n",
       "10                           [General Anesthesiology]   \n",
       "11                           [General Anesthesiology]   \n",
       "12                           [General Anesthesiology]   \n",
       "13                           [General Anesthesiology]   \n",
       "14  [General Anesthesiology, Cardiothoracic Anesth...   \n",
       "15            [General Anesthesiology, Pain Medicine]   \n",
       "16                           [General Anesthesiology]   \n",
       "17  [General Anesthesiology, Hospice & Palliative ...   \n",
       "18  [General Anesthesiology, Regional Anesthesiology]   \n",
       "19                           [General Anesthesiology]   \n",
       "\n",
       "                                   education_training  \\\n",
       "0   [\\n            Texas Tech University at Lubboc...   \n",
       "1   [\\n            Texas Tech University at Lubboc...   \n",
       "2   [\\n            Texas Tech University at Lubboc...   \n",
       "3   [\\n            Medical College of Georgia\\n   ...   \n",
       "4   [\\n            University Medical Center\\n    ...   \n",
       "5   [\\n            Texas Tech University at Lubboc...   \n",
       "6   [\\n            Texas Tech University at Lubboc...   \n",
       "7   [\\n            Stanford University\\n          ...   \n",
       "8   [\\n            Texas Tech University at Lubboc...   \n",
       "9   [\\n            Texas Tech University at Lubboc...   \n",
       "10  [\\n            Medical College of Ohio at Tole...   \n",
       "11  [\\n            Brookdale University Hospital a...   \n",
       "12  [\\n            Texas Tech University at Lubboc...   \n",
       "13  [\\n            Hannover Medical School\\n      ...   \n",
       "14  [\\n            Texas A&M - Scott and White Mem...   \n",
       "15  [\\n            Texas Tech University at Lubboc...   \n",
       "16  [\\n            Texas Tech University at Lubboc...   \n",
       "17  [\\n            San Antonio Uniformed Services ...   \n",
       "18  [\\n            Other\\n            \\nMedical Sc...   \n",
       "19  [\\n            Texas Tech University at Lubboc...   \n",
       "\n",
       "                              Certification_licensure  \n",
       "0   [\\n            NJ State Medical License\\nActiv...  \n",
       "1   [\\n            CA State Medical License\\nActiv...  \n",
       "2   [\\n            VA State Medical License\\nActiv...  \n",
       "3   [\\n            American Board of Anesthesiolog...  \n",
       "4   [\\n            American Board of Anesthesiolog...  \n",
       "5   [\\n            American Board of Anesthesiolog...  \n",
       "6   [\\n            American Board of Anesthesiolog...  \n",
       "7   [\\n            American Board of Anesthesiolog...  \n",
       "8   [\\n            UT State Medical License\\nActiv...  \n",
       "9   [\\n            American Board of Anesthesiolog...  \n",
       "10  [\\n            American Board of Anesthesiolog...  \n",
       "11  [\\n            American Board of Anesthesiolog...  \n",
       "12  [\\n            American Board of Anesthesiolog...  \n",
       "13  [\\n            TX State Medical License\\nActiv...  \n",
       "14  [\\n            TX State Medical License\\nActiv...  \n",
       "15  [\\n            TX State Medical License\\nActiv...  \n",
       "16  [\\n            MI State Medical License\\nActiv...  \n",
       "17  [\\n            American Board of Anesthesiolog...  \n",
       "18  [\\n            TX State Medical License\\nActiv...  \n",
       "19  [\\n            American Board of Anesthesiolog...  "
      ]
     },
     "execution_count": 46,
     "metadata": {},
     "output_type": "execute_result"
    }
   ],
   "source": [
    "data1"
   ]
  },
  {
   "cell_type": "code",
   "execution_count": 47,
   "metadata": {},
   "outputs": [],
   "source": [
    "#data1.to_csv('data.csv')"
   ]
  }
 ],
 "metadata": {
  "kernelspec": {
   "display_name": "Python 3",
   "language": "python",
   "name": "python3"
  },
  "language_info": {
   "codemirror_mode": {
    "name": "ipython",
    "version": 3
   },
   "file_extension": ".py",
   "mimetype": "text/x-python",
   "name": "python",
   "nbconvert_exporter": "python",
   "pygments_lexer": "ipython3",
   "version": "3.6.6"
  }
 },
 "nbformat": 4,
 "nbformat_minor": 2
}
